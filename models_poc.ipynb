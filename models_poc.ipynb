{
 "cells": [
  {
   "cell_type": "code",
   "execution_count": 8,
   "metadata": {},
   "outputs": [],
   "source": [
    "load('anemoi.sage')\n",
    "load('models.sage')\n",
    "load('SystemAnalysis.sage')"
   ]
  },
  {
   "cell_type": "markdown",
   "metadata": {},
   "source": [
    "# Anemoi over prime fields"
   ]
  },
  {
   "cell_type": "code",
   "execution_count": 9,
   "metadata": {},
   "outputs": [
    {
     "data": {
      "text/html": [
       "<div class=\"notruncate\">\n",
       "<table  class=\"table_form\">\n",
       "<tbody>\n",
       "<tr>\n",
       "<th class=\"ch\">p</th>\n",
       "<th>hex(p)</th>\n",
       "<th>b</th>\n",
       "<th><script type=\"math/tex\">3</script></th>\n",
       "<th><script type=\"math/tex\">5</script></th>\n",
       "<th><script type=\"math/tex\">7</script></th>\n",
       "<th><script type=\"math/tex\">9</script></th>\n",
       "<th><script type=\"math/tex\">11</script></th>\n",
       "</tr>\n",
       "<tr class =\"row-a\">\n",
       "<td class=\"ch\"><script type=\"math/tex\">251</script></td>\n",
       "<td>0xfb</td>\n",
       "<td><script type=\"math/tex\">8</script></td>\n",
       "<td><script type=\"math/tex\">\\mathrm{True}</script></td>\n",
       "<td><script type=\"math/tex\">\\mathrm{False}</script></td>\n",
       "<td><script type=\"math/tex\">\\mathrm{True}</script></td>\n",
       "<td><script type=\"math/tex\">\\mathrm{True}</script></td>\n",
       "<td><script type=\"math/tex\">\\mathrm{True}</script></td>\n",
       "</tr>\n",
       "<tr class =\"row-b\">\n",
       "<td class=\"ch\"><script type=\"math/tex\">65537</script></td>\n",
       "<td>0x10001</td>\n",
       "<td><script type=\"math/tex\">17</script></td>\n",
       "<td><script type=\"math/tex\">\\mathrm{True}</script></td>\n",
       "<td><script type=\"math/tex\">\\mathrm{True}</script></td>\n",
       "<td><script type=\"math/tex\">\\mathrm{True}</script></td>\n",
       "<td><script type=\"math/tex\">\\mathrm{True}</script></td>\n",
       "<td><script type=\"math/tex\">\\mathrm{True}</script></td>\n",
       "</tr>\n",
       "<tr class =\"row-a\">\n",
       "<td class=\"ch\"><script type=\"math/tex\">4294967087</script></td>\n",
       "<td>0xffffff2f</td>\n",
       "<td><script type=\"math/tex\">32</script></td>\n",
       "<td><script type=\"math/tex\">\\mathrm{True}</script></td>\n",
       "<td><script type=\"math/tex\">\\mathrm{True}</script></td>\n",
       "<td><script type=\"math/tex\">\\mathrm{True}</script></td>\n",
       "<td><script type=\"math/tex\">\\mathrm{True}</script></td>\n",
       "<td><script type=\"math/tex\">\\mathrm{True}</script></td>\n",
       "</tr>\n",
       "<tr class =\"row-b\">\n",
       "<td class=\"ch\"><script type=\"math/tex\">18446744073709551263</script></td>\n",
       "<td>0xfffffffffffffe9f</td>\n",
       "<td><script type=\"math/tex\">64</script></td>\n",
       "<td><script type=\"math/tex\">\\mathrm{True}</script></td>\n",
       "<td><script type=\"math/tex\">\\mathrm{True}</script></td>\n",
       "<td><script type=\"math/tex\">\\mathrm{True}</script></td>\n",
       "<td><script type=\"math/tex\">\\mathrm{True}</script></td>\n",
       "<td><script type=\"math/tex\">\\mathrm{True}</script></td>\n",
       "</tr>\n",
       "<tr class =\"row-a\">\n",
       "<td class=\"ch\"><script type=\"math/tex\">28948022309329048855892746252171976963363056481941560715954676764349967630337</script></td>\n",
       "<td>0x40000000000000000000000000000000224698fc094cf91b992d30ed00000001</td>\n",
       "<td><script type=\"math/tex\">255</script></td>\n",
       "<td><script type=\"math/tex\">\\mathrm{False}</script></td>\n",
       "<td><script type=\"math/tex\">\\mathrm{True}</script></td>\n",
       "<td><script type=\"math/tex\">\\mathrm{True}</script></td>\n",
       "<td><script type=\"math/tex\">\\mathrm{False}</script></td>\n",
       "<td><script type=\"math/tex\">\\mathrm{True}</script></td>\n",
       "</tr>\n",
       "<tr class =\"row-b\">\n",
       "<td class=\"ch\"><script type=\"math/tex\">28948022309329048855892746252171976963363056481941647379679742748393362948097</script></td>\n",
       "<td>0x40000000000000000000000000000000224698fc0994a8dd8c46eb2100000001</td>\n",
       "<td><script type=\"math/tex\">255</script></td>\n",
       "<td><script type=\"math/tex\">\\mathrm{False}</script></td>\n",
       "<td><script type=\"math/tex\">\\mathrm{True}</script></td>\n",
       "<td><script type=\"math/tex\">\\mathrm{True}</script></td>\n",
       "<td><script type=\"math/tex\">\\mathrm{False}</script></td>\n",
       "<td><script type=\"math/tex\">\\mathrm{True}</script></td>\n",
       "</tr>\n",
       "<tr class =\"row-a\">\n",
       "<td class=\"ch\"><script type=\"math/tex\">8444461749428370424248824938781546531375899335154063827935233455917409239041</script></td>\n",
       "<td>0x12ab655e9a2ca55660b44d1e5c37b00159aa76fed00000010a11800000000001</td>\n",
       "<td><script type=\"math/tex\">253</script></td>\n",
       "<td><script type=\"math/tex\">\\mathrm{False}</script></td>\n",
       "<td><script type=\"math/tex\">\\mathrm{False}</script></td>\n",
       "<td><script type=\"math/tex\">\\mathrm{False}</script></td>\n",
       "<td><script type=\"math/tex\">\\mathrm{False}</script></td>\n",
       "<td><script type=\"math/tex\">\\mathrm{True}</script></td>\n",
       "</tr>\n",
       "<tr class =\"row-b\">\n",
       "<td class=\"ch\"><script type=\"math/tex\">52435875175126190479447740508185965837690552500527637822603658699938581184513</script></td>\n",
       "<td>0x73eda753299d7d483339d80809a1d80553bda402fffe5bfeffffffff00000001</td>\n",
       "<td><script type=\"math/tex\">255</script></td>\n",
       "<td><script type=\"math/tex\">\\mathrm{False}</script></td>\n",
       "<td><script type=\"math/tex\">\\mathrm{True}</script></td>\n",
       "<td><script type=\"math/tex\">\\mathrm{True}</script></td>\n",
       "<td><script type=\"math/tex\">\\mathrm{False}</script></td>\n",
       "<td><script type=\"math/tex\">\\mathrm{False}</script></td>\n",
       "</tr>\n",
       "<tr class =\"row-a\">\n",
       "<td class=\"ch\"><script type=\"math/tex\">21888242871839275222246405745257275088548364400416034343698204186575808495617</script></td>\n",
       "<td>0x30644e72e131a029b85045b68181585d2833e84879b9709143e1f593f0000001</td>\n",
       "<td><script type=\"math/tex\">254</script></td>\n",
       "<td><script type=\"math/tex\">\\mathrm{False}</script></td>\n",
       "<td><script type=\"math/tex\">\\mathrm{True}</script></td>\n",
       "<td><script type=\"math/tex\">\\mathrm{True}</script></td>\n",
       "<td><script type=\"math/tex\">\\mathrm{False}</script></td>\n",
       "<td><script type=\"math/tex\">\\mathrm{True}</script></td>\n",
       "</tr>\n",
       "</tbody>\n",
       "</table>\n",
       "</div>"
      ],
      "text/plain": [
       "  p                                                                             | hex(p)                                                               b     3       5       7       9       11\n",
       "+-------------------------------------------------------------------------------+--------------------------------------------------------------------+-----+-------+-------+-------+-------+-------+\n",
       "  251                                                                           | 0xfb                                                                 8     True    False   True    True    True\n",
       "  65537                                                                         | 0x10001                                                              17    True    True    True    True    True\n",
       "  4294967087                                                                    | 0xffffff2f                                                           32    True    True    True    True    True\n",
       "  18446744073709551263                                                          | 0xfffffffffffffe9f                                                   64    True    True    True    True    True\n",
       "  28948022309329048855892746252171976963363056481941560715954676764349967630337 | 0x40000000000000000000000000000000224698fc094cf91b992d30ed00000001   255   False   True    True    False   True\n",
       "  28948022309329048855892746252171976963363056481941647379679742748393362948097 | 0x40000000000000000000000000000000224698fc0994a8dd8c46eb2100000001   255   False   True    True    False   True\n",
       "  8444461749428370424248824938781546531375899335154063827935233455917409239041  | 0x12ab655e9a2ca55660b44d1e5c37b00159aa76fed00000010a11800000000001   253   False   False   False   False   True\n",
       "  52435875175126190479447740508185965837690552500527637822603658699938581184513 | 0x73eda753299d7d483339d80809a1d80553bda402fffe5bfeffffffff00000001   255   False   True    True    False   False\n",
       "  21888242871839275222246405745257275088548364400416034343698204186575808495617 | 0x30644e72e131a029b85045b68181585d2833e84879b9709143e1f593f0000001   254   False   True    True    False   True"
      ]
     },
     "execution_count": 9,
     "metadata": {},
     "output_type": "execute_result"
    }
   ],
   "source": [
    "p8 = 2^8 - 2^2 - 1\n",
    "p17 = 2^16 + 1\n",
    "p32 = 2^32 - (2^8 - 2^6 + 2^4 + 1) # = 2^32-209 # 2^32-2^4-1 # 2^31 - 1\n",
    "p64 = 2^64 - (2^8 + 2^6 + 2^5 + 1) # = 2^64 - 353 # 2^64 - 2^32 + 1\n",
    "#primes = [p1,p2,p3, PALLAS_BASEFIELD, VESTA_BASEFIELD, BLS12_377_SCALARFIELD, BLS12_381_SCALARFIELD, BN_254_SCALARFIELD]\n",
    "primes = [p8,p17,p32,p64, PALLAS_BASEFIELD, VESTA_BASEFIELD, BLS12_377_SCALARFIELD, BLS12_381_SCALARFIELD, BN_254_SCALARFIELD]\n",
    "\n",
    "alphas = [3,5,7,9,11]\n",
    "result = [['p', 'hex(p)', 'b'] + alphas]\n",
    "\n",
    "for p in primes:\n",
    "    assert(is_prime(p))\n",
    "    result.append([p, hex(p), ceil(log(p,2))] + [gcd(p-1,a) == 1 for a in alphas])\n",
    "table(result, header_row=True, header_column=True)"
   ]
  },
  {
   "cell_type": "code",
   "execution_count": 103,
   "metadata": {},
   "outputs": [
    {
     "name": "stdout",
     "output_type": "stream",
     "text": [
      "Anemoi instance over F_251 (odd prime field), n_rounds=2, n_cols=1, s=128\n",
      "alpha=3, beta=6, \\delta=42\n",
      "M_x=\n",
      "[1]\n",
      "C=[[14], [234]]\n",
      "D=[[56], [110]]\n"
     ]
    }
   ],
   "source": [
    "Ap = AnemoiPermutation(q=p0, alpha=3, n_rounds=2, n_cols=1); print(Ap)  # Anemoi instance for some 8bit prime"
   ]
  },
  {
   "cell_type": "code",
   "execution_count": 104,
   "metadata": {},
   "outputs": [],
   "source": [
    "# Check implementation of inverse linear layer\n",
    "for x in Ap.F:\n",
    "    for y in Ap.F:\n",
    "        u, v = Ap.linear_layer([x],[y])\n",
    "        x_, y_ = Ap.inv_linear_layer(u, v)\n",
    "        assert([x] == x_[:] and [y] == y_[:])"
   ]
  },
  {
   "cell_type": "code",
   "execution_count": 105,
   "metadata": {},
   "outputs": [
    {
     "name": "stdout",
     "output_type": "stream",
     "text": [
      "A[0, 170] = [0, 37]\n",
      "A[0, 175] = [0, 96]\n"
     ]
    }
   ],
   "source": [
    "# Bruteforce CICO solutions\n",
    "for p in Ap.F:\n",
    "    instate  = [Ap.F.zero(), p]\n",
    "    outstate = Ap(instate)\n",
    "    if outstate[0] == Ap.F.zero():\n",
    "        print(f\"A{instate} = {outstate}\")"
   ]
  },
  {
   "cell_type": "code",
   "execution_count": 106,
   "metadata": {},
   "outputs": [
    {
     "name": "stdout",
     "output_type": "stream",
     "text": [
      "\n",
      "====================================================================================================\n",
      "Anemoi instance over F_251 (odd prime field), n_rounds=2, n_cols=1, s=128\n",
      "alpha=3, beta=6, \\delta=42\n",
      "M_x=\n",
      "[1]\n",
      "C=[[14], [234]]\n",
      "D=[[56], [110]]\n",
      "----------------------------------------------------------------------------------------------------\n",
      "Multivariate Polynomial Ring in X0000, Y0000, X0100, Y0100, X0200, Y0200 over Finite Field of size 251\n",
      "[[X0000], [X0100], [X0200]]\n",
      "[[Y0000], [Y0100], [Y0200]]\n",
      "----------------------------------------------------------------------------------------------------\n",
      "Number of equations:  4\n",
      "Number of variables:  6\n",
      "----------------------------------------------------------------------------------------------------\n",
      "Degrees: [3, 3, 3, 3]\n",
      "----------------------------------------------------------------------------------------------------\n",
      "CICO variables:  {X0000: 0, X0200: 0}\n",
      "Apply ordering 1\n",
      "here\n",
      "change ring for polys\n",
      "change ring for variables\n",
      "----------------------------------------------------------------------------------------------------\n",
      "Number of equations:  4\n",
      "Number of variables:  4\n",
      "----------------------------------------------------------------------------------------------------\n",
      "Multivariate Polynomial Ring in X0100, Y0000, Y0100, Y0200 over Finite Field of size 251\n",
      "\n",
      "====================================================================================================\n",
      "Anemoi instance over F_251 (odd prime field), n_rounds=2, n_cols=1, s=128\n",
      "alpha=3, beta=6, \\delta=42\n",
      "M_x=\n",
      "[1]\n",
      "C=[[14], [234]]\n",
      "D=[[56], [110]]\n",
      "----------------------------------------------------------------------------------------------------\n",
      "Multivariate Polynomial Ring in X0000, Y0000, S0100, S0200 over Finite Field of size 251\n",
      "X {0: [X0000]}\n",
      "Y {0: [Y0000]}\n",
      "S {1: [S0100], 2: [S0200]}\n",
      "----------------------------------------------------------------------------------------------------\n",
      "Number of equations:  2\n",
      "Number of variables:  4\n",
      "----------------------------------------------------------------------------------------------------\n",
      "Degrees: [3, 4]\n",
      "Apply ordering 1\n",
      "----------------------------------------------------------------------------------------------------\n",
      "Number of equations:  3\n",
      "Number of variables:  3\n",
      "----------------------------------------------------------------------------------------------------\n",
      "Multivariate Polynomial Ring in Y0000, S0200, S0100 over Finite Field of size 251\n"
     ]
    }
   ],
   "source": [
    "# Create equations for two models\n",
    "fcico_Ap, _ =  model_F_CICO(Ap, n_rounds=2, debug=True)\n",
    "pcico_Ap, _ =  model_P_CICO(Ap, n_rounds=2, debug=True)"
   ]
  },
  {
   "cell_type": "code",
   "execution_count": 75,
   "metadata": {},
   "outputs": [
    {
     "data": {
      "text/plain": [
       "[{Y0200: 96, Y0100: 203, Y0000: 175, X0100: 104},\n",
       " {Y0200: 37, Y0100: 25, Y0000: 170, X0100: 57}]"
      ]
     },
     "execution_count": 75,
     "metadata": {},
     "output_type": "execute_result"
    }
   ],
   "source": [
    "V_fcico_Ap = Ideal(fcico_Ap).variety(); V_fcico_Ap"
   ]
  },
  {
   "cell_type": "code",
   "execution_count": 76,
   "metadata": {},
   "outputs": [
    {
     "data": {
      "text/plain": [
       "[{S0100: 42, S0200: 208, Y0000: 175}, {S0100: 215, S0200: 101, Y0000: 170}]"
      ]
     },
     "execution_count": 76,
     "metadata": {},
     "output_type": "execute_result"
    }
   ],
   "source": [
    "V_pcico_Ap = Ideal(pcico_Ap).variety(); V_pcico_Ap "
   ]
  },
  {
   "cell_type": "code",
   "execution_count": 77,
   "metadata": {},
   "outputs": [
    {
     "name": "stdout",
     "output_type": "stream",
     "text": [
      "[[[0], [175]], [[104], [203]], [[155], [192]], [[0], [96]]]\n",
      "[[[0], [170]], [[57], [25]], [[214], [74]], [[0], [37]]]\n"
     ]
    }
   ],
   "source": [
    "for v in V_fcico_Ap:\n",
    "    result = Ap.eval_with_intermediate_values([Ap.F.zero()],[v['Y0000']])\n",
    "    print(result)"
   ]
  },
  {
   "cell_type": "markdown",
   "metadata": {},
   "source": [
    "# Anemoi over binary fields"
   ]
  },
  {
   "cell_type": "code",
   "execution_count": 6,
   "metadata": {},
   "outputs": [
    {
     "data": {
      "text/html": [
       "<div class=\"notruncate\">\n",
       "<table  class=\"table_form\">\n",
       "<tbody>\n",
       "<tr>\n",
       "<th class=\"ch\">n</th>\n",
       "<th><script type=\"math/tex\">3</script></th>\n",
       "<th><script type=\"math/tex\">5</script></th>\n",
       "<th><script type=\"math/tex\">9</script></th>\n",
       "</tr>\n",
       "<tr class =\"row-a\">\n",
       "<td class=\"ch\"><script type=\"math/tex\">7</script></td>\n",
       "<td><script type=\"math/tex\">\\mathrm{True}</script></td>\n",
       "<td><script type=\"math/tex\">\\mathrm{True}</script></td>\n",
       "<td><script type=\"math/tex\">\\mathrm{True}</script></td>\n",
       "</tr>\n",
       "<tr class =\"row-b\">\n",
       "<td class=\"ch\"><script type=\"math/tex\">15</script></td>\n",
       "<td><script type=\"math/tex\">\\mathrm{True}</script></td>\n",
       "<td><script type=\"math/tex\">\\mathrm{True}</script></td>\n",
       "<td><script type=\"math/tex\">\\mathrm{False}</script></td>\n",
       "</tr>\n",
       "<tr class =\"row-a\">\n",
       "<td class=\"ch\"><script type=\"math/tex\">17</script></td>\n",
       "<td><script type=\"math/tex\">\\mathrm{True}</script></td>\n",
       "<td><script type=\"math/tex\">\\mathrm{True}</script></td>\n",
       "<td><script type=\"math/tex\">\\mathrm{True}</script></td>\n",
       "</tr>\n",
       "<tr class =\"row-b\">\n",
       "<td class=\"ch\"><script type=\"math/tex\">31</script></td>\n",
       "<td><script type=\"math/tex\">\\mathrm{True}</script></td>\n",
       "<td><script type=\"math/tex\">\\mathrm{True}</script></td>\n",
       "<td><script type=\"math/tex\">\\mathrm{True}</script></td>\n",
       "</tr>\n",
       "<tr class =\"row-a\">\n",
       "<td class=\"ch\"><script type=\"math/tex\">63</script></td>\n",
       "<td><script type=\"math/tex\">\\mathrm{True}</script></td>\n",
       "<td><script type=\"math/tex\">\\mathrm{True}</script></td>\n",
       "<td><script type=\"math/tex\">\\mathrm{False}</script></td>\n",
       "</tr>\n",
       "<tr class =\"row-b\">\n",
       "<td class=\"ch\"><script type=\"math/tex\">65</script></td>\n",
       "<td><script type=\"math/tex\">\\mathrm{True}</script></td>\n",
       "<td><script type=\"math/tex\">\\mathrm{True}</script></td>\n",
       "<td><script type=\"math/tex\">\\mathrm{True}</script></td>\n",
       "</tr>\n",
       "<tr class =\"row-a\">\n",
       "<td class=\"ch\"><script type=\"math/tex\">127</script></td>\n",
       "<td><script type=\"math/tex\">\\mathrm{True}</script></td>\n",
       "<td><script type=\"math/tex\">\\mathrm{True}</script></td>\n",
       "<td><script type=\"math/tex\">\\mathrm{True}</script></td>\n",
       "</tr>\n",
       "<tr class =\"row-b\">\n",
       "<td class=\"ch\"><script type=\"math/tex\">255</script></td>\n",
       "<td><script type=\"math/tex\">\\mathrm{True}</script></td>\n",
       "<td><script type=\"math/tex\">\\mathrm{True}</script></td>\n",
       "<td><script type=\"math/tex\">\\mathrm{False}</script></td>\n",
       "</tr>\n",
       "<tr class =\"row-a\">\n",
       "<td class=\"ch\"><script type=\"math/tex\">257</script></td>\n",
       "<td><script type=\"math/tex\">\\mathrm{True}</script></td>\n",
       "<td><script type=\"math/tex\">\\mathrm{True}</script></td>\n",
       "<td><script type=\"math/tex\">\\mathrm{True}</script></td>\n",
       "</tr>\n",
       "</tbody>\n",
       "</table>\n",
       "</div>"
      ],
      "text/plain": [
       "  n   | 3      5      9\n",
       "+-----+------+------+-------+\n",
       "  7   | True   True   True\n",
       "  15  | True   True   False\n",
       "  17  | True   True   True\n",
       "  31  | True   True   True\n",
       "  63  | True   True   False\n",
       "  65  | True   True   True\n",
       "  127 | True   True   True\n",
       "  255 | True   True   False\n",
       "  257 | True   True   True"
      ]
     },
     "execution_count": 6,
     "metadata": {},
     "output_type": "execute_result"
    }
   ],
   "source": [
    "alphas = [(i,2^i+1) for i in range(1,4)] # construction of alpha: alpha = 2^i + 1\n",
    "powers = [7, 15, 17, 31, 63, 65, 127, 255, 257] # n for field 2^n\n",
    "\n",
    "result = [['n'] + [a for (i,a) in alphas]]\n",
    "\n",
    "for n in powers:\n",
    "    result.append([n] + [(n%2 == 1) and (gcd(i,n) == 1) for (i,a) in alphas])\n",
    "table(result, header_row=True, header_column=True)"
   ]
  },
  {
   "cell_type": "code",
   "execution_count": 130,
   "metadata": {},
   "outputs": [
    {
     "name": "stdout",
     "output_type": "stream",
     "text": [
      "Anemoi instance over F_128 (characteristic 2), n_rounds=2, n_cols=1, s=128\n",
      "alpha=3, beta=z7, \\delta=z7^6 + 1\n",
      "M_x=\n",
      "[1]\n",
      "C=[[2], [41]]\n",
      "D=[[67], [63]]\n"
     ]
    }
   ],
   "source": [
    "A2 = AnemoiPermutation(q=2^7, alpha=3, n_rounds=2, n_cols=1); print(A2)  # Anemoi instance for 7bit power of two"
   ]
  },
  {
   "cell_type": "code",
   "execution_count": 131,
   "metadata": {},
   "outputs": [],
   "source": [
    "# Check implementation of inverse linear layer\n",
    "for x in A2.F:\n",
    "    for y in A2.F:\n",
    "        u, v = A2.linear_layer([x],[y])\n",
    "        x_, y_ = A2.inv_linear_layer(u, v)\n",
    "        assert([x] == x_[:] and [y] == y_[:])"
   ]
  },
  {
   "cell_type": "code",
   "execution_count": 132,
   "metadata": {},
   "outputs": [
    {
     "name": "stdout",
     "output_type": "stream",
     "text": [
      "A[0, z7^6 + z7^5 + z7^4 + z7^2] = [0, z7^4]\n",
      "A[0, z7^5 + 1] = [0, z7^4 + z7^2 + z7 + 1]\n"
     ]
    }
   ],
   "source": [
    "# Bruteforce CICO solutions\n",
    "for p in A2.F:\n",
    "    instate  = [A2.F.zero(), p]\n",
    "    outstate = A2(instate)\n",
    "    if outstate[0] == A2.F.zero():\n",
    "        print(f\"A{instate} = {outstate}\")"
   ]
  },
  {
   "cell_type": "code",
   "execution_count": 133,
   "metadata": {},
   "outputs": [
    {
     "name": "stdout",
     "output_type": "stream",
     "text": [
      "\n",
      "====================================================================================================\n",
      "Anemoi instance over F_128 (characteristic 2), n_rounds=2, n_cols=1, s=128\n",
      "alpha=3, beta=z7, \\delta=z7^6 + 1\n",
      "M_x=\n",
      "[1]\n",
      "C=[[2], [41]]\n",
      "D=[[67], [63]]\n",
      "----------------------------------------------------------------------------------------------------\n",
      "Multivariate Polynomial Ring in X0000, Y0000, X0100, Y0100, X0200, Y0200 over Finite Field in z7 of size 2^7\n",
      "[[X0000], [X0100], [X0200]]\n",
      "[[Y0000], [Y0100], [Y0200]]\n",
      "----------------------------------------------------------------------------------------------------\n",
      "Number of equations:  4\n",
      "Number of variables:  6\n",
      "----------------------------------------------------------------------------------------------------\n",
      "Degrees: [3, 3, 3, 3]\n",
      "----------------------------------------------------------------------------------------------------\n",
      "CICO variables:  {X0000: 0, X0200: 0}\n",
      "Apply ordering 1\n",
      "here\n",
      "change ring for polys\n",
      "change ring for variables\n",
      "----------------------------------------------------------------------------------------------------\n",
      "Number of equations:  4\n",
      "Number of variables:  4\n",
      "----------------------------------------------------------------------------------------------------\n",
      "Multivariate Polynomial Ring in X0100, Y0000, Y0100, Y0200 over Finite Field in z7 of size 2^7\n",
      "\n",
      "====================================================================================================\n",
      "Anemoi instance over F_128 (characteristic 2), n_rounds=2, n_cols=1, s=128\n",
      "alpha=3, beta=z7, \\delta=z7^6 + 1\n",
      "M_x=\n",
      "[1]\n",
      "C=[[2], [41]]\n",
      "D=[[67], [63]]\n",
      "----------------------------------------------------------------------------------------------------\n",
      "Multivariate Polynomial Ring in X0000, Y0000, S0100, S0200 over Finite Field in z7 of size 2^7\n",
      "X {0: [X0000]}\n",
      "Y {0: [Y0000]}\n",
      "S {1: [S0100], 2: [S0200]}\n",
      "----------------------------------------------------------------------------------------------------\n",
      "Number of equations:  2\n",
      "Number of variables:  4\n",
      "----------------------------------------------------------------------------------------------------\n",
      "Degrees: [3, 9]\n",
      "Apply ordering 1\n",
      "----------------------------------------------------------------------------------------------------\n",
      "Number of equations:  3\n",
      "Number of variables:  3\n",
      "----------------------------------------------------------------------------------------------------\n",
      "Multivariate Polynomial Ring in Y0000, S0200, S0100 over Finite Field in z7 of size 2^7\n"
     ]
    }
   ],
   "source": [
    "# Create equations for two models\n",
    "fcico_A2, _ =  model_F_CICO(A2, n_rounds=2, debug=True)\n",
    "pcico_A2, _ =  model_P_CICO(A2, n_rounds=2, debug=True)"
   ]
  },
  {
   "cell_type": "code",
   "execution_count": 134,
   "metadata": {},
   "outputs": [
    {
     "data": {
      "text/plain": [
       "[{Y0200: z7^4 + z7^2 + z7 + 1, Y0100: z7^6 + z7^2 + z7, Y0000: z7^5 + 1, X0100: z7^3 + z7^2 + z7 + 1},\n",
       " {Y0200: z7^4, Y0100: z7^6 + z7^3 + z7^2 + z7 + 1, Y0000: z7^6 + z7^5 + z7^4 + z7^2, X0100: z7^5 + z7^3 + 1}]"
      ]
     },
     "execution_count": 134,
     "metadata": {},
     "output_type": "execute_result"
    }
   ],
   "source": [
    "V_fcico_A2 = Ideal(fcico_A2).variety(); V_fcico_A2"
   ]
  },
  {
   "cell_type": "code",
   "execution_count": 135,
   "metadata": {},
   "outputs": [
    {
     "data": {
      "text/plain": [
       "[{S0100: z7^5 + z7^2 + z7, S0200: z7^6 + z7^4 + z7^3 + z7^2 + z7 + 1, Y0000: z7^5 + 1},\n",
       " {S0100: z7^6 + z7^5 + z7^4 + z7^3 + z7, S0200: z7^6 + z7^5 + z7^4, Y0000: z7^6 + z7^5 + z7^4 + z7^2}]"
      ]
     },
     "execution_count": 135,
     "metadata": {},
     "output_type": "execute_result"
    }
   ],
   "source": [
    "V_pcico_A2 = Ideal(pcico_A2).variety(); V_pcico_A2 "
   ]
  },
  {
   "cell_type": "code",
   "execution_count": null,
   "metadata": {},
   "outputs": [],
   "source": []
  }
 ],
 "metadata": {
  "kernelspec": {
   "display_name": "SageMath 9.3",
   "language": "sage",
   "name": "sagemath"
  },
  "language_info": {
   "codemirror_mode": {
    "name": "ipython",
    "version": 3
   },
   "file_extension": ".py",
   "mimetype": "text/x-python",
   "name": "python",
   "nbconvert_exporter": "python",
   "pygments_lexer": "ipython3",
   "version": "3.7.10"
  }
 },
 "nbformat": 4,
 "nbformat_minor": 4
}
